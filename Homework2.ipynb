{
 "cells": [
  {
   "cell_type": "markdown",
   "metadata": {},
   "source": [
    "<h1 style=\"color:blue\">Homework 2</h1>\n",
    "\n",
    "<img src=\"./tic_tac_toe.gif\" />\n",
    "\n",
    "Create a program that finds the winner from a game of tic-tac-toe.\n",
    "The first person to have three O/X in a row (vertical, horizontal or diagonal) is the winner\n",
    "\n",
    "<span style=\"color:green\">Note:- </span> Use a 3x3 two-dimensional list to get the entries. An example entry is already given in the next block."
   ]
  },
  {
   "cell_type": "code",
   "execution_count": 5,
   "metadata": {},
   "outputs": [],
   "source": [
    "# Winner in the game below is X\n",
    "game = [['O','O','X'],\n",
    "        ['','X',''],\n",
    "        ['X','O','X']]"
   ]
  },
  {
   "cell_type": "code",
   "execution_count": null,
   "metadata": {},
   "outputs": [],
   "source": [
    "a = [[-1, -1, -1], [-1, -1, -1], [-1, -1, -1]]\n",
    "for i in range(3):\n",
    "    t = list(input())\n",
    "    for j in range(3):\n",
    "        a[i][j] = t[j]\n",
    "\n",
    "def main(a):\n",
    "    for i in range(3):\n",
    "        if a[0][i] == a[1][i] and a[1][0] == a[2][i] and a[0][i] != \" \":\n",
    "            return a[0][i]\n",
    "        elif a[i][0] == a[i][1] and a[i][1] == a[i][2] and a[i][0] != \" \":\n",
    "            return a[i][0]\n",
    "    if a[0][0] == a[1][1] and a[1][1] == a[2][2] and a[0][0] != \" \":\n",
    "        return a[0][0]\n",
    "    elif a[0][2] == a[1][1] and a[1][1] == a[2][0] and a[0][2] != \" \":\n",
    "        return a[0][2]\n",
    "    return \"no winner\"\n",
    "\n",
    "print(\"The winner is...\\n...\", main(a), \"!\\nThank you for having used this programm.\")"
   ]
  },
  {
   "cell_type": "code",
   "execution_count": null,
   "metadata": {},
   "outputs": [],
   "source": []
  }
 ],
 "metadata": {
  "kernelspec": {
   "display_name": "Python 3",
   "language": "python",
   "name": "python3"
  },
  "language_info": {
   "codemirror_mode": {
    "name": "ipython",
    "version": 3
   },
   "file_extension": ".py",
   "mimetype": "text/x-python",
   "name": "python",
   "nbconvert_exporter": "python",
   "pygments_lexer": "ipython3",
   "version": "3.6.5"
  }
 },
 "nbformat": 4,
 "nbformat_minor": 2
}
