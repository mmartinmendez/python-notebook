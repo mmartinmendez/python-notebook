{
 "cells": [
  {
   "cell_type": "code",
   "execution_count": 8,
   "metadata": {},
   "outputs": [
    {
     "name": "stdout",
     "output_type": "stream",
     "text": [
      "6\n",
      "[[0, 0, 2, 0, 1, 0], [0, 1, 2, 2, 2, 1], [0, 0, 2, 0, 1, 0], [0, 0, 2, 1, 0, 0], [0, 0, 1, 0, 0, 0], [0, 1, 0, 0, 0, 0]]\n"
     ]
    }
   ],
   "source": [
    "\"\"\"n = int(input())\n",
    "a = [[0 for i in range(n)] for j in range(n)]\n",
    "\n",
    "for i in range(n):\n",
    "    t = input().split(\" \")\n",
    "    for j in range(len(t)):\n",
    "        a[i][j] = int(t[j]) \"\"\"\n",
    "\n",
    "a = [[0, 0, 2, 0, 1, 0], \n",
    "     [0, 1, 2, 2, 2, 1], \n",
    "     [0, 0, 2, 0, 1, 0], \n",
    "     [0, 0, 2, 1, 0, 0], \n",
    "     [0, 0, 1, 0, 0, 0], \n",
    "     [0, 1, 0, 0, 0, 0]]\n",
    "\n",
    "def search(a, r, c, p1, p2):\n",
    "    len = 5\n",
    "    if(a[r][c] != p1 || a[r][c] != p2):\n",
    "        return 0\n",
    "    for i in range(len):\n",
    "        \n",
    "    \n",
    "\n",
    "for i in range(n):\n",
    "    for j in range(n):\n",
    "        if search(a, i, j, 1, 2) == 1:\n",
    "            print(1)\n",
    "        else if search(a, i, j, 1, 2) == 2:\n",
    "            print(2)\n"
   ]
  },
  {
   "cell_type": "code",
   "execution_count": null,
   "metadata": {},
   "outputs": [],
   "source": []
  }
 ],
 "metadata": {
  "kernelspec": {
   "display_name": "Python 3",
   "language": "python",
   "name": "python3"
  },
  "language_info": {
   "codemirror_mode": {
    "name": "ipython",
    "version": 3
   },
   "file_extension": ".py",
   "mimetype": "text/x-python",
   "name": "python",
   "nbconvert_exporter": "python",
   "pygments_lexer": "ipython3",
   "version": "3.6.5"
  }
 },
 "nbformat": 4,
 "nbformat_minor": 2
}
