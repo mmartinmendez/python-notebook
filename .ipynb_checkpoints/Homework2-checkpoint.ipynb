{
 "cells": [
  {
   "cell_type": "markdown",
   "metadata": {},
   "source": [
    "<h1 style=\"color:blue\">Homework 2</h1>\n",
    "\n",
    "<img src=\"./tic_tac_toe.gif\" />\n",
    "\n",
    "Create a program that finds the winner from a game of tic-tac-toe.\n",
    "The first person to have three O/X in a row (vertical, horizontal or diagonal) is the winner\n",
    "\n",
    "<span style=\"color:green\">Note:- </span> Use a 3x3 two-dimensional list to get the entries. An example entry is already given in the next block."
   ]
  },
  {
   "cell_type": "code",
   "execution_count": 5,
   "metadata": {},
   "outputs": [],
   "source": [
    "# Winner in the game below is X\n",
    "game = [['O','O','X'],\n",
    "        ['','X',''],\n",
    "        ['X','O','X']]\n",
    "\n"
   ]
  }
 ],
 "metadata": {
  "kernelspec": {
   "display_name": "Python 3",
   "language": "python",
   "name": "python3"
  },
  "language_info": {
   "codemirror_mode": {
    "name": "ipython",
    "version": 3
   },
   "file_extension": ".py",
   "mimetype": "text/x-python",
   "name": "python",
   "nbconvert_exporter": "python",
   "pygments_lexer": "ipython3",
   "version": "3.6.5"
  }
 },
 "nbformat": 4,
 "nbformat_minor": 2
}
